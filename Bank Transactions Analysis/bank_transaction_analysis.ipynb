{
 "cells": [
  {
   "cell_type": "markdown",
   "id": "e1912b62",
   "metadata": {},
   "source": [
    "# Bank Transaction Analysis"
   ]
  },
  {
   "cell_type": "markdown",
   "id": "b2607a19",
   "metadata": {},
   "source": [
    "Hello, my name is Widya.\n",
    "In this project, We will explore bank transaction data to uncover spending patterns, transaction types, customer demographics, and detect potential anomalies using Python."
   ]
  },
  {
   "cell_type": "markdown",
   "id": "4ee06ae8",
   "metadata": {},
   "source": [
    "## Importing Data"
   ]
  },
  {
   "cell_type": "code",
   "execution_count": 12,
   "id": "3744eceb",
   "metadata": {},
   "outputs": [],
   "source": [
    "import pandas as pd"
   ]
  },
  {
   "cell_type": "code",
   "execution_count": 13,
   "id": "6bf6c0f1",
   "metadata": {},
   "outputs": [],
   "source": [
    "url = \"http://raw.githubusercontent.com/widyacatur/personalproject/refs/heads/main/Bank%20Transactions%20Analysis/bank_transactions_data_2.csv\"\n",
    "df = pd.read_csv(url)"
   ]
  },
  {
   "cell_type": "code",
   "execution_count": 14,
   "id": "f8bf4e1e",
   "metadata": {},
   "outputs": [
    {
     "name": "stdout",
     "output_type": "stream",
     "text": [
      "     TransactionID AccountID  TransactionAmount      TransactionDate  \\\n",
      "0         TX000001   AC00128              14.09  2023-04-11 16:29:14   \n",
      "1         TX000002   AC00455             376.24  2023-06-27 16:44:19   \n",
      "2         TX000003   AC00019             126.29  2023-07-10 18:16:08   \n",
      "3         TX000004   AC00070             184.50  2023-05-05 16:32:11   \n",
      "4         TX000005   AC00411              13.45  2023-10-16 17:51:24   \n",
      "...            ...       ...                ...                  ...   \n",
      "2507      TX002508   AC00297             856.21  2023-04-26 17:09:36   \n",
      "2508      TX002509   AC00322             251.54  2023-03-22 17:36:48   \n",
      "2509      TX002510   AC00095              28.63  2023-08-21 17:08:50   \n",
      "2510      TX002511   AC00118             185.97  2023-02-24 16:24:46   \n",
      "2511      TX002512   AC00009             243.08  2023-02-14 16:21:23   \n",
      "\n",
      "     TransactionType          Location DeviceID      IP Address MerchantID  \\\n",
      "0              Debit         San Diego  D000380  162.198.218.92       M015   \n",
      "1              Debit           Houston  D000051     13.149.61.4       M052   \n",
      "2              Debit              Mesa  D000235  215.97.143.157       M009   \n",
      "3              Debit           Raleigh  D000187  200.13.225.150       M002   \n",
      "4             Credit           Atlanta  D000308    65.164.3.100       M091   \n",
      "...              ...               ...      ...             ...        ...   \n",
      "2507          Credit  Colorado Springs  D000625    21.157.41.17       M072   \n",
      "2508           Debit            Tucson  D000410  49.174.157.140       M029   \n",
      "2509           Debit         San Diego  D000095     58.1.27.124       M087   \n",
      "2510           Debit            Denver  D000634   21.190.11.223       M041   \n",
      "2511          Credit      Jacksonville  D000215   59.127.135.25       M041   \n",
      "\n",
      "     Channel  CustomerAge CustomerOccupation  TransactionDuration  \\\n",
      "0        ATM           70             Doctor                   81   \n",
      "1        ATM           68             Doctor                  141   \n",
      "2     Online           19            Student                   56   \n",
      "3     Online           26            Student                   25   \n",
      "4     Online           26            Student                  198   \n",
      "...      ...          ...                ...                  ...   \n",
      "2507  Branch           33             Doctor                  109   \n",
      "2508  Branch           48             Doctor                  177   \n",
      "2509  Branch           56            Retired                  146   \n",
      "2510  Online           23            Student                   19   \n",
      "2511  Online           24            Student                   93   \n",
      "\n",
      "      LoginAttempts  AccountBalance PreviousTransactionDate  \n",
      "0                 1         5112.21     2024-11-04 08:08:08  \n",
      "1                 1        13758.91     2024-11-04 08:09:35  \n",
      "2                 1         1122.35     2024-11-04 08:07:04  \n",
      "3                 1         8569.06     2024-11-04 08:09:06  \n",
      "4                 1         7429.40     2024-11-04 08:06:39  \n",
      "...             ...             ...                     ...  \n",
      "2507              1        12690.79     2024-11-04 08:11:29  \n",
      "2508              1          254.75     2024-11-04 08:11:42  \n",
      "2509              1         3382.91     2024-11-04 08:08:39  \n",
      "2510              1         1776.91     2024-11-04 08:12:22  \n",
      "2511              1          131.25     2024-11-04 08:07:49  \n",
      "\n",
      "[2512 rows x 16 columns]\n"
     ]
    }
   ],
   "source": [
    "print(df)"
   ]
  },
  {
   "cell_type": "markdown",
   "id": "50c17a0c",
   "metadata": {},
   "source": [
    "## 5W + 1H Method"
   ]
  },
  {
   "cell_type": "code",
   "execution_count": null,
   "id": "df17102e",
   "metadata": {},
   "outputs": [],
   "source": []
  }
 ],
 "metadata": {
  "kernelspec": {
   "display_name": "Python 3",
   "language": "python",
   "name": "python3"
  },
  "language_info": {
   "codemirror_mode": {
    "name": "ipython",
    "version": 3
   },
   "file_extension": ".py",
   "mimetype": "text/x-python",
   "name": "python",
   "nbconvert_exporter": "python",
   "pygments_lexer": "ipython3",
   "version": "3.9.13"
  }
 },
 "nbformat": 4,
 "nbformat_minor": 5
}
