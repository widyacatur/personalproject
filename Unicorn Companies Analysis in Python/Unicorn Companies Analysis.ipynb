{
 "cells": [
  {
   "cell_type": "markdown",
   "id": "a299511e",
   "metadata": {},
   "source": [
    "# Unicorn Companies Analysis"
   ]
  },
  {
   "cell_type": "markdown",
   "id": "3fc13858",
   "metadata": {},
   "source": [
    "Hello, my name is Widya and this is analysis of Unicorn Companies dataset that i got from Maven Analytics.\n",
    "\n",
    "This dataset contains data of private companies with a valuation over $1 billion as of March 2022, including each company's current valuation, funding, country of origin, industry, select investors, and the years they were founded and became unicorns.\n",
    "\n",
    "The main goal of this analysis is to answer these questions:\n",
    "1. Which unicorn companies have had the biggest return on investment?\n",
    "2. How long does it usually take for a company to become a unicorn? Has it always been this way?\n",
    "3. Which countries have the most unicorns? Are there any cities that appear to be industry hubs?\n",
    "4. Which investors have funded the most unicorns?"
   ]
  },
  {
   "cell_type": "code",
   "execution_count": 46,
   "id": "96fdaeb8",
   "metadata": {},
   "outputs": [],
   "source": [
    "# Importing python libraries that will be needed to perform the analysis\n",
    "\n",
    "import pandas as pd\n",
    "import numpy as np\n",
    "import matplotlib.pyplot as plt\n",
    "import seaborn as sns"
   ]
  },
  {
   "cell_type": "code",
   "execution_count": 47,
   "id": "bf5f89ab",
   "metadata": {},
   "outputs": [],
   "source": [
    "# Load the dataset\n",
    "data = pd.read_csv('Unicorn_Companies.csv')"
   ]
  },
  {
   "cell_type": "code",
   "execution_count": 48,
   "id": "1c06d749",
   "metadata": {},
   "outputs": [
    {
     "name": "stdout",
     "output_type": "stream",
     "text": [
      "First few rows of the dataset:\n"
     ]
    },
    {
     "data": {
      "text/html": [
       "<div>\n",
       "<style scoped>\n",
       "    .dataframe tbody tr th:only-of-type {\n",
       "        vertical-align: middle;\n",
       "    }\n",
       "\n",
       "    .dataframe tbody tr th {\n",
       "        vertical-align: top;\n",
       "    }\n",
       "\n",
       "    .dataframe thead th {\n",
       "        text-align: right;\n",
       "    }\n",
       "</style>\n",
       "<table border=\"1\" class=\"dataframe\">\n",
       "  <thead>\n",
       "    <tr style=\"text-align: right;\">\n",
       "      <th></th>\n",
       "      <th>Company</th>\n",
       "      <th>Valuation</th>\n",
       "      <th>Date Joined</th>\n",
       "      <th>Industry</th>\n",
       "      <th>City</th>\n",
       "      <th>Country</th>\n",
       "      <th>Continent</th>\n",
       "      <th>Year Founded</th>\n",
       "      <th>Funding</th>\n",
       "      <th>Select Investors</th>\n",
       "    </tr>\n",
       "  </thead>\n",
       "  <tbody>\n",
       "    <tr>\n",
       "      <th>0</th>\n",
       "      <td>Bytedance</td>\n",
       "      <td>180000000000</td>\n",
       "      <td>4/7/2017</td>\n",
       "      <td>Artificial intelligence</td>\n",
       "      <td>Beijing</td>\n",
       "      <td>China</td>\n",
       "      <td>Asia</td>\n",
       "      <td>2012</td>\n",
       "      <td>8000000000</td>\n",
       "      <td>Sequoia Capital China, SIG Asia Investments, S...</td>\n",
       "    </tr>\n",
       "    <tr>\n",
       "      <th>1</th>\n",
       "      <td>SpaceX</td>\n",
       "      <td>100000000000</td>\n",
       "      <td>12/1/2012</td>\n",
       "      <td>Other</td>\n",
       "      <td>Hawthorne</td>\n",
       "      <td>United States</td>\n",
       "      <td>North America</td>\n",
       "      <td>2002</td>\n",
       "      <td>7000000000</td>\n",
       "      <td>Founders Fund, Draper Fisher Jurvetson, Rothen...</td>\n",
       "    </tr>\n",
       "    <tr>\n",
       "      <th>2</th>\n",
       "      <td>SHEIN</td>\n",
       "      <td>100000000000</td>\n",
       "      <td>7/3/2018</td>\n",
       "      <td>E-commerce &amp; direct-to-consumer</td>\n",
       "      <td>Shenzhen</td>\n",
       "      <td>China</td>\n",
       "      <td>Asia</td>\n",
       "      <td>2008</td>\n",
       "      <td>2000000000</td>\n",
       "      <td>Tiger Global Management, Sequoia Capital China...</td>\n",
       "    </tr>\n",
       "    <tr>\n",
       "      <th>3</th>\n",
       "      <td>Stripe</td>\n",
       "      <td>95000000000</td>\n",
       "      <td>1/23/2014</td>\n",
       "      <td>Fintech</td>\n",
       "      <td>San Francisco</td>\n",
       "      <td>United States</td>\n",
       "      <td>North America</td>\n",
       "      <td>2010</td>\n",
       "      <td>2000000000</td>\n",
       "      <td>Khosla Ventures, LowercaseCapital, capitalG</td>\n",
       "    </tr>\n",
       "    <tr>\n",
       "      <th>4</th>\n",
       "      <td>Klarna</td>\n",
       "      <td>46000000000</td>\n",
       "      <td>12/12/2011</td>\n",
       "      <td>Fintech</td>\n",
       "      <td>Stockholm</td>\n",
       "      <td>Sweden</td>\n",
       "      <td>Europe</td>\n",
       "      <td>2005</td>\n",
       "      <td>4000000000</td>\n",
       "      <td>Institutional Venture Partners, Sequoia Capita...</td>\n",
       "    </tr>\n",
       "  </tbody>\n",
       "</table>\n",
       "</div>"
      ],
      "text/plain": [
       "     Company     Valuation Date Joined                         Industry  \\\n",
       "0  Bytedance  180000000000    4/7/2017          Artificial intelligence   \n",
       "1     SpaceX  100000000000   12/1/2012                            Other   \n",
       "2      SHEIN  100000000000    7/3/2018  E-commerce & direct-to-consumer   \n",
       "3     Stripe   95000000000   1/23/2014                          Fintech   \n",
       "4     Klarna   46000000000  12/12/2011                          Fintech   \n",
       "\n",
       "            City        Country      Continent  Year Founded     Funding  \\\n",
       "0        Beijing          China           Asia          2012  8000000000   \n",
       "1      Hawthorne  United States  North America          2002  7000000000   \n",
       "2       Shenzhen          China           Asia          2008  2000000000   \n",
       "3  San Francisco  United States  North America          2010  2000000000   \n",
       "4      Stockholm         Sweden         Europe          2005  4000000000   \n",
       "\n",
       "                                    Select Investors  \n",
       "0  Sequoia Capital China, SIG Asia Investments, S...  \n",
       "1  Founders Fund, Draper Fisher Jurvetson, Rothen...  \n",
       "2  Tiger Global Management, Sequoia Capital China...  \n",
       "3        Khosla Ventures, LowercaseCapital, capitalG  \n",
       "4  Institutional Venture Partners, Sequoia Capita...  "
      ]
     },
     "execution_count": 48,
     "metadata": {},
     "output_type": "execute_result"
    }
   ],
   "source": [
    "# Displaying the first few rows of the dataset\n",
    "print(\"First few rows of the dataset:\")\n",
    "data.head()"
   ]
  },
  {
   "cell_type": "markdown",
   "id": "3e9b68fb",
   "metadata": {},
   "source": [
    "The dataset contains information on unicorn companies (private companies valued at over 1 billion dollars).\n",
    "It includes the following fields:\n",
    "- Company: Name of the company\n",
    "- Valuation: Company valuation in billions (B) of dollars\n",
    "- Date Joined: The date the company reached $1 billion valuation\n",
    "- Industry: Industry of the company\n",
    "- City: City where the company was founded\n",
    "- Country: Country where the company was founded\n",
    "- Continent: Continent where the company was founded\n",
    "- Year Founded: Year the company was founded\n",
    "- Funding: Total amount raised across all funding rounds in billions (B) or millions (M) of dollars\n",
    "- Select Investors: Top 4 investing firms or individual investors"
   ]
  },
  {
   "cell_type": "code",
   "execution_count": 49,
   "id": "afe5a413",
   "metadata": {},
   "outputs": [
    {
     "name": "stdout",
     "output_type": "stream",
     "text": [
      "Data types and summary statistics:\n",
      "<class 'pandas.core.frame.DataFrame'>\n",
      "RangeIndex: 1045 entries, 0 to 1044\n",
      "Data columns (total 10 columns):\n",
      " #   Column            Non-Null Count  Dtype \n",
      "---  ------            --------------  ----- \n",
      " 0   Company           1045 non-null   object\n",
      " 1   Valuation         1045 non-null   int64 \n",
      " 2   Date Joined       1045 non-null   object\n",
      " 3   Industry          1045 non-null   object\n",
      " 4   City              1045 non-null   object\n",
      " 5   Country           1045 non-null   object\n",
      " 6   Continent         1045 non-null   object\n",
      " 7   Year Founded      1045 non-null   int64 \n",
      " 8   Funding           1045 non-null   int64 \n",
      " 9   Select Investors  1044 non-null   object\n",
      "dtypes: int64(3), object(7)\n",
      "memory usage: 81.8+ KB\n",
      "None\n"
     ]
    },
    {
     "data": {
      "text/html": [
       "<div>\n",
       "<style scoped>\n",
       "    .dataframe tbody tr th:only-of-type {\n",
       "        vertical-align: middle;\n",
       "    }\n",
       "\n",
       "    .dataframe tbody tr th {\n",
       "        vertical-align: top;\n",
       "    }\n",
       "\n",
       "    .dataframe thead th {\n",
       "        text-align: right;\n",
       "    }\n",
       "</style>\n",
       "<table border=\"1\" class=\"dataframe\">\n",
       "  <thead>\n",
       "    <tr style=\"text-align: right;\">\n",
       "      <th></th>\n",
       "      <th>Company</th>\n",
       "      <th>Valuation</th>\n",
       "      <th>Date Joined</th>\n",
       "      <th>Industry</th>\n",
       "      <th>City</th>\n",
       "      <th>Country</th>\n",
       "      <th>Continent</th>\n",
       "      <th>Year Founded</th>\n",
       "      <th>Funding</th>\n",
       "      <th>Select Investors</th>\n",
       "    </tr>\n",
       "  </thead>\n",
       "  <tbody>\n",
       "    <tr>\n",
       "      <th>count</th>\n",
       "      <td>1045</td>\n",
       "      <td>1.045000e+03</td>\n",
       "      <td>1045</td>\n",
       "      <td>1045</td>\n",
       "      <td>1045</td>\n",
       "      <td>1045</td>\n",
       "      <td>1045</td>\n",
       "      <td>1045.000000</td>\n",
       "      <td>1.045000e+03</td>\n",
       "      <td>1044</td>\n",
       "    </tr>\n",
       "    <tr>\n",
       "      <th>unique</th>\n",
       "      <td>1044</td>\n",
       "      <td>NaN</td>\n",
       "      <td>633</td>\n",
       "      <td>16</td>\n",
       "      <td>252</td>\n",
       "      <td>44</td>\n",
       "      <td>6</td>\n",
       "      <td>NaN</td>\n",
       "      <td>NaN</td>\n",
       "      <td>1030</td>\n",
       "    </tr>\n",
       "    <tr>\n",
       "      <th>top</th>\n",
       "      <td>Bolt</td>\n",
       "      <td>NaN</td>\n",
       "      <td>7/13/2021</td>\n",
       "      <td>Fintech</td>\n",
       "      <td>San Francisco</td>\n",
       "      <td>United States</td>\n",
       "      <td>North America</td>\n",
       "      <td>NaN</td>\n",
       "      <td>NaN</td>\n",
       "      <td>Global Founders Capital, Shea Ventures, Greycroft</td>\n",
       "    </tr>\n",
       "    <tr>\n",
       "      <th>freq</th>\n",
       "      <td>2</td>\n",
       "      <td>NaN</td>\n",
       "      <td>8</td>\n",
       "      <td>216</td>\n",
       "      <td>152</td>\n",
       "      <td>555</td>\n",
       "      <td>580</td>\n",
       "      <td>NaN</td>\n",
       "      <td>NaN</td>\n",
       "      <td>2</td>\n",
       "    </tr>\n",
       "    <tr>\n",
       "      <th>mean</th>\n",
       "      <td>NaN</td>\n",
       "      <td>3.475598e+09</td>\n",
       "      <td>NaN</td>\n",
       "      <td>NaN</td>\n",
       "      <td>NaN</td>\n",
       "      <td>NaN</td>\n",
       "      <td>NaN</td>\n",
       "      <td>2012.982775</td>\n",
       "      <td>5.577904e+08</td>\n",
       "      <td>NaN</td>\n",
       "    </tr>\n",
       "    <tr>\n",
       "      <th>std</th>\n",
       "      <td>NaN</td>\n",
       "      <td>8.613154e+09</td>\n",
       "      <td>NaN</td>\n",
       "      <td>NaN</td>\n",
       "      <td>NaN</td>\n",
       "      <td>NaN</td>\n",
       "      <td>NaN</td>\n",
       "      <td>4.907935</td>\n",
       "      <td>8.145278e+08</td>\n",
       "      <td>NaN</td>\n",
       "    </tr>\n",
       "    <tr>\n",
       "      <th>min</th>\n",
       "      <td>NaN</td>\n",
       "      <td>1.000000e+09</td>\n",
       "      <td>NaN</td>\n",
       "      <td>NaN</td>\n",
       "      <td>NaN</td>\n",
       "      <td>NaN</td>\n",
       "      <td>NaN</td>\n",
       "      <td>1979.000000</td>\n",
       "      <td>1.000000e+06</td>\n",
       "      <td>NaN</td>\n",
       "    </tr>\n",
       "    <tr>\n",
       "      <th>25%</th>\n",
       "      <td>NaN</td>\n",
       "      <td>1.000000e+09</td>\n",
       "      <td>NaN</td>\n",
       "      <td>NaN</td>\n",
       "      <td>NaN</td>\n",
       "      <td>NaN</td>\n",
       "      <td>NaN</td>\n",
       "      <td>2011.000000</td>\n",
       "      <td>2.230000e+08</td>\n",
       "      <td>NaN</td>\n",
       "    </tr>\n",
       "    <tr>\n",
       "      <th>50%</th>\n",
       "      <td>NaN</td>\n",
       "      <td>2.000000e+09</td>\n",
       "      <td>NaN</td>\n",
       "      <td>NaN</td>\n",
       "      <td>NaN</td>\n",
       "      <td>NaN</td>\n",
       "      <td>NaN</td>\n",
       "      <td>2014.000000</td>\n",
       "      <td>3.700000e+08</td>\n",
       "      <td>NaN</td>\n",
       "    </tr>\n",
       "    <tr>\n",
       "      <th>75%</th>\n",
       "      <td>NaN</td>\n",
       "      <td>3.000000e+09</td>\n",
       "      <td>NaN</td>\n",
       "      <td>NaN</td>\n",
       "      <td>NaN</td>\n",
       "      <td>NaN</td>\n",
       "      <td>NaN</td>\n",
       "      <td>2016.000000</td>\n",
       "      <td>6.100000e+08</td>\n",
       "      <td>NaN</td>\n",
       "    </tr>\n",
       "    <tr>\n",
       "      <th>max</th>\n",
       "      <td>NaN</td>\n",
       "      <td>1.800000e+11</td>\n",
       "      <td>NaN</td>\n",
       "      <td>NaN</td>\n",
       "      <td>NaN</td>\n",
       "      <td>NaN</td>\n",
       "      <td>NaN</td>\n",
       "      <td>2021.000000</td>\n",
       "      <td>1.400000e+10</td>\n",
       "      <td>NaN</td>\n",
       "    </tr>\n",
       "  </tbody>\n",
       "</table>\n",
       "</div>"
      ],
      "text/plain": [
       "       Company     Valuation Date Joined Industry           City  \\\n",
       "count     1045  1.045000e+03        1045     1045           1045   \n",
       "unique    1044           NaN         633       16            252   \n",
       "top       Bolt           NaN   7/13/2021  Fintech  San Francisco   \n",
       "freq         2           NaN           8      216            152   \n",
       "mean       NaN  3.475598e+09         NaN      NaN            NaN   \n",
       "std        NaN  8.613154e+09         NaN      NaN            NaN   \n",
       "min        NaN  1.000000e+09         NaN      NaN            NaN   \n",
       "25%        NaN  1.000000e+09         NaN      NaN            NaN   \n",
       "50%        NaN  2.000000e+09         NaN      NaN            NaN   \n",
       "75%        NaN  3.000000e+09         NaN      NaN            NaN   \n",
       "max        NaN  1.800000e+11         NaN      NaN            NaN   \n",
       "\n",
       "              Country      Continent  Year Founded       Funding  \\\n",
       "count            1045           1045   1045.000000  1.045000e+03   \n",
       "unique             44              6           NaN           NaN   \n",
       "top     United States  North America           NaN           NaN   \n",
       "freq              555            580           NaN           NaN   \n",
       "mean              NaN            NaN   2012.982775  5.577904e+08   \n",
       "std               NaN            NaN      4.907935  8.145278e+08   \n",
       "min               NaN            NaN   1979.000000  1.000000e+06   \n",
       "25%               NaN            NaN   2011.000000  2.230000e+08   \n",
       "50%               NaN            NaN   2014.000000  3.700000e+08   \n",
       "75%               NaN            NaN   2016.000000  6.100000e+08   \n",
       "max               NaN            NaN   2021.000000  1.400000e+10   \n",
       "\n",
       "                                         Select Investors  \n",
       "count                                                1044  \n",
       "unique                                               1030  \n",
       "top     Global Founders Capital, Shea Ventures, Greycroft  \n",
       "freq                                                    2  \n",
       "mean                                                  NaN  \n",
       "std                                                   NaN  \n",
       "min                                                   NaN  \n",
       "25%                                                   NaN  \n",
       "50%                                                   NaN  \n",
       "75%                                                   NaN  \n",
       "max                                                   NaN  "
      ]
     },
     "execution_count": 49,
     "metadata": {},
     "output_type": "execute_result"
    }
   ],
   "source": [
    "# Displaying the data types and summary statistics\n",
    "print(\"Data types and summary statistics:\")\n",
    "print(data.info())\n",
    "data.describe(include='all')"
   ]
  },
  {
   "cell_type": "code",
   "execution_count": 50,
   "id": "4e20da0d",
   "metadata": {},
   "outputs": [],
   "source": [
    "# Convert 'Date Joined' to datetime format\n",
    "data['Date Joined'] = pd.to_datetime(data['Date Joined'])\n",
    "\n",
    "# Convert 'Year Founded' to datetime format (setting day and month to 01 for consistency)\n",
    "data['Year Founded'] = pd.to_datetime(data['Year Founded'], format='%Y')"
   ]
  },
  {
   "cell_type": "code",
   "execution_count": 52,
   "id": "e38c527e",
   "metadata": {},
   "outputs": [
    {
     "name": "stdout",
     "output_type": "stream",
     "text": [
      "Cleaned data:\n"
     ]
    },
    {
     "data": {
      "text/html": [
       "<div>\n",
       "<style scoped>\n",
       "    .dataframe tbody tr th:only-of-type {\n",
       "        vertical-align: middle;\n",
       "    }\n",
       "\n",
       "    .dataframe tbody tr th {\n",
       "        vertical-align: top;\n",
       "    }\n",
       "\n",
       "    .dataframe thead th {\n",
       "        text-align: right;\n",
       "    }\n",
       "</style>\n",
       "<table border=\"1\" class=\"dataframe\">\n",
       "  <thead>\n",
       "    <tr style=\"text-align: right;\">\n",
       "      <th></th>\n",
       "      <th>Company</th>\n",
       "      <th>Valuation</th>\n",
       "      <th>Date Joined</th>\n",
       "      <th>Industry</th>\n",
       "      <th>City</th>\n",
       "      <th>Country</th>\n",
       "      <th>Continent</th>\n",
       "      <th>Year Founded</th>\n",
       "      <th>Funding</th>\n",
       "      <th>Select Investors</th>\n",
       "      <th>Time to Unicorn</th>\n",
       "    </tr>\n",
       "  </thead>\n",
       "  <tbody>\n",
       "    <tr>\n",
       "      <th>0</th>\n",
       "      <td>Bytedance</td>\n",
       "      <td>180000000000</td>\n",
       "      <td>2017-04-07</td>\n",
       "      <td>Artificial intelligence</td>\n",
       "      <td>Beijing</td>\n",
       "      <td>China</td>\n",
       "      <td>Asia</td>\n",
       "      <td>2012-01-01</td>\n",
       "      <td>8000000000</td>\n",
       "      <td>Sequoia Capital China, SIG Asia Investments, S...</td>\n",
       "      <td>5.268493</td>\n",
       "    </tr>\n",
       "    <tr>\n",
       "      <th>1</th>\n",
       "      <td>SpaceX</td>\n",
       "      <td>100000000000</td>\n",
       "      <td>2012-12-01</td>\n",
       "      <td>Other</td>\n",
       "      <td>Hawthorne</td>\n",
       "      <td>United States</td>\n",
       "      <td>North America</td>\n",
       "      <td>2002-01-01</td>\n",
       "      <td>7000000000</td>\n",
       "      <td>Founders Fund, Draper Fisher Jurvetson, Rothen...</td>\n",
       "      <td>10.923288</td>\n",
       "    </tr>\n",
       "    <tr>\n",
       "      <th>2</th>\n",
       "      <td>SHEIN</td>\n",
       "      <td>100000000000</td>\n",
       "      <td>2018-07-03</td>\n",
       "      <td>E-commerce &amp; direct-to-consumer</td>\n",
       "      <td>Shenzhen</td>\n",
       "      <td>China</td>\n",
       "      <td>Asia</td>\n",
       "      <td>2008-01-01</td>\n",
       "      <td>2000000000</td>\n",
       "      <td>Tiger Global Management, Sequoia Capital China...</td>\n",
       "      <td>10.509589</td>\n",
       "    </tr>\n",
       "    <tr>\n",
       "      <th>3</th>\n",
       "      <td>Stripe</td>\n",
       "      <td>95000000000</td>\n",
       "      <td>2014-01-23</td>\n",
       "      <td>Fintech</td>\n",
       "      <td>San Francisco</td>\n",
       "      <td>United States</td>\n",
       "      <td>North America</td>\n",
       "      <td>2010-01-01</td>\n",
       "      <td>2000000000</td>\n",
       "      <td>Khosla Ventures, LowercaseCapital, capitalG</td>\n",
       "      <td>4.063014</td>\n",
       "    </tr>\n",
       "    <tr>\n",
       "      <th>4</th>\n",
       "      <td>Klarna</td>\n",
       "      <td>46000000000</td>\n",
       "      <td>2011-12-12</td>\n",
       "      <td>Fintech</td>\n",
       "      <td>Stockholm</td>\n",
       "      <td>Sweden</td>\n",
       "      <td>Europe</td>\n",
       "      <td>2005-01-01</td>\n",
       "      <td>4000000000</td>\n",
       "      <td>Institutional Venture Partners, Sequoia Capita...</td>\n",
       "      <td>6.947945</td>\n",
       "    </tr>\n",
       "  </tbody>\n",
       "</table>\n",
       "</div>"
      ],
      "text/plain": [
       "     Company     Valuation Date Joined                         Industry  \\\n",
       "0  Bytedance  180000000000  2017-04-07          Artificial intelligence   \n",
       "1     SpaceX  100000000000  2012-12-01                            Other   \n",
       "2      SHEIN  100000000000  2018-07-03  E-commerce & direct-to-consumer   \n",
       "3     Stripe   95000000000  2014-01-23                          Fintech   \n",
       "4     Klarna   46000000000  2011-12-12                          Fintech   \n",
       "\n",
       "            City        Country      Continent Year Founded     Funding  \\\n",
       "0        Beijing          China           Asia   2012-01-01  8000000000   \n",
       "1      Hawthorne  United States  North America   2002-01-01  7000000000   \n",
       "2       Shenzhen          China           Asia   2008-01-01  2000000000   \n",
       "3  San Francisco  United States  North America   2010-01-01  2000000000   \n",
       "4      Stockholm         Sweden         Europe   2005-01-01  4000000000   \n",
       "\n",
       "                                    Select Investors  Time to Unicorn  \n",
       "0  Sequoia Capital China, SIG Asia Investments, S...         5.268493  \n",
       "1  Founders Fund, Draper Fisher Jurvetson, Rothen...        10.923288  \n",
       "2  Tiger Global Management, Sequoia Capital China...        10.509589  \n",
       "3        Khosla Ventures, LowercaseCapital, capitalG         4.063014  \n",
       "4  Institutional Venture Partners, Sequoia Capita...         6.947945  "
      ]
     },
     "execution_count": 52,
     "metadata": {},
     "output_type": "execute_result"
    }
   ],
   "source": [
    "# Display cleaned data\n",
    "print(\"Cleaned data:\")\n",
    "data.head()"
   ]
  },
  {
   "cell_type": "markdown",
   "id": "85fa9d84",
   "metadata": {},
   "source": [
    "From the code above, almost all columns have appropriate data types except for date joined and year founded."
   ]
  },
  {
   "cell_type": "code",
   "execution_count": 53,
   "id": "a4a945d6",
   "metadata": {},
   "outputs": [
    {
     "data": {
      "image/png": "[encoded data removed]",
      "text/plain": [
       "<Figure size 720x432 with 1 Axes>"
      ]
     },
     "metadata": {
      "needs_background": "light"
     },
     "output_type": "display_data"
    }
   ],
   "source": [
    "# Distribution of valuations\n",
    "plt.figure(figsize=(10, 6))\n",
    "sns.histplot(data['Valuation'], bins=30, kde=True)\n",
    "plt.title('Distribution of Unicorn Valuations')\n",
    "plt.xlabel('Valuation (in billions)')\n",
    "plt.ylabel('Frequency')\n",
    "plt.show()"
   ]
  },
  {
   "cell_type": "markdown",
   "id": "45a63fec",
   "metadata": {},
   "source": [
    "This way it is hard for us to interpret the visualization so i will apply log tranformation for a better visualization."
   ]
  },
  {
   "cell_type": "code",
   "execution_count": 54,
   "id": "f5d29d5b",
   "metadata": {},
   "outputs": [
    {
     "data": {
      "image/png": "[encoded data removed]",
      "text/plain": [
       "<Figure size 720x432 with 1 Axes>"
      ]
     },
     "metadata": {
      "needs_background": "light"
     },
     "output_type": "display_data"
    }
   ],
   "source": [
    "# Apply log transformation to the Valuation column\n",
    "data['Log Valuation'] = np.log10(data['Valuation'])\n",
    "\n",
    "# Plot the distribution of log-transformed valuations\n",
    "plt.figure(figsize=(10, 6))\n",
    "sns.histplot(data['Log Valuation'], bins=30, kde=True)\n",
    "plt.title('Log-Transformed Distribution of Unicorn Valuations')\n",
    "plt.xlabel('Log Valuation (log10 of billions)')\n",
    "plt.ylabel('Frequency')\n",
    "plt.show()"
   ]
  },
  {
   "cell_type": "markdown",
   "id": "6d5c3b4f",
   "metadata": {},
   "source": [
    "From the histogram we can see that unicorn companies are valued between 1 to 10 billion.\n",
    "There are less companies with higher valuations than those with lower valuations, and this reflected in a right-skewed distributions."
   ]
  },
  {
   "cell_type": "markdown",
   "id": "d79abd06",
   "metadata": {},
   "source": [
    "Return on investment (ROI) is a performance measure used to evaluate the efficiency or profitability of an investment or compare the efficiency of a number of different investments. ROI tries to directly measure the amount of return on a particular investment, relative to the investment’s cost.\n",
    "\n",
    "To calculate ROI, the benefit (or return) of an investment is divided by the cost of the investment. The result is expressed as a percentage or a ratio."
   ]
  },
  {
   "cell_type": "code",
   "execution_count": 70,
   "id": "3649c973",
   "metadata": {},
   "outputs": [
    {
     "data": {
      "image/png": "[encoded data removed]",
      "text/plain": [
       "<Figure size 864x576 with 1 Axes>"
      ]
     },
     "metadata": {
      "needs_background": "light"
     },
     "output_type": "display_data"
    }
   ],
   "source": [
    "# Calculating ROI\n",
    "data['ROI'] = ((data['Valuation'] - data['Funding']) / data['Funding']) * 100\n",
    "\n",
    "# Visualizing top industries by ROI\n",
    "plt.figure(figsize=(12, 8))\n",
    "sns.barplot(y=top_industries_by_roi.index, x=top_industries_by_roi.values)\n",
    "plt.title('Top Industries by ROI')\n",
    "plt.xlabel('Average ROI (%)')\n",
    "plt.ylabel('Industry')\n",
    "plt.show()"
   ]
  },
  {
   "cell_type": "code",
   "execution_count": 71,
   "id": "705ee73a",
   "metadata": {},
   "outputs": [
    {
     "name": "stdout",
     "output_type": "stream",
     "text": [
      "Top Industries by ROI:\n",
      "Industry\n",
      "Internet software & services           2800.390592\n",
      "Other                                   840.785540\n",
      "Mobile & telecommunications             830.202215\n",
      "Fintech                                 819.739453\n",
      "Hardware                                702.556703\n",
      "Consumer & retail                       700.409123\n",
      "Data management & analytics             580.726529\n",
      "Artificial intelligence                 556.096198\n",
      "Health                                  530.024617\n",
      "E-commerce & direct-to-consumer         514.440315\n",
      "Cybersecurity                           504.434051\n",
      "Artificial Intelligence                 498.532209\n",
      "Edtech                                  474.798590\n",
      "Auto & transportation                   329.215621\n",
      "Supply chain, logistics, & delivery     286.079262\n",
      "Travel                                  246.144451\n",
      "Name: ROI, dtype: float64\n"
     ]
    }
   ],
   "source": [
    "# Displaying top industries by ROI\n",
    "top_industries_by_roi = data.groupby('Industry')['ROI'].mean().sort_values(ascending=False)\n",
    "print(\"Top Industries by ROI:\")\n",
    "print(top_industries_by_roi)"
   ]
  },
  {
   "cell_type": "code",
   "execution_count": 56,
   "id": "91536821",
   "metadata": {},
   "outputs": [
    {
     "data": {
      "image/png": "[encoded data removed]",
      "text/plain": [
       "<Figure size 864x576 with 1 Axes>"
      ]
     },
     "metadata": {
      "needs_background": "light"
     },
     "output_type": "display_data"
    }
   ],
   "source": [
    "# Industry analysis\n",
    "industry_counts = data['Industry'].value_counts()\n",
    "\n",
    "plt.figure(figsize=(12, 8))\n",
    "sns.barplot(y=industry_counts.index, x=industry_counts.values)\n",
    "plt.title('Top Industries with the Most Unicorns')\n",
    "plt.xlabel('Number of Unicorns')\n",
    "plt.ylabel('Industry')\n",
    "plt.show()"
   ]
  },
  {
   "cell_type": "markdown",
   "id": "87340604",
   "metadata": {},
   "source": [
    "Fintech as the lead industry with most unicorns and internet software & services come close in the second."
   ]
  },
  {
   "cell_type": "code",
   "execution_count": 51,
   "id": "c7b68f12",
   "metadata": {},
   "outputs": [],
   "source": [
    "# Calculate 'Time to Unicorn'\n",
    "data['Time to Unicorn'] = (data['Date Joined'] - data['Year Founded']).dt.days / 365\n",
    "\n",
    "# Handle potential errors in 'Time to Unicorn'\n",
    "data = data[data['Time to Unicorn'] >= 0]"
   ]
  },
  {
   "cell_type": "code",
   "execution_count": 59,
   "id": "eb0b6b7e",
   "metadata": {},
   "outputs": [
    {
     "data": {
      "text/plain": [
       "7.414307458143079"
      ]
     },
     "execution_count": 59,
     "metadata": {},
     "output_type": "execute_result"
    }
   ],
   "source": [
    "# Display the average time to become a unicorn\n",
    "average_time_to_unicorn = data['Time to Unicorn'].mean()\n",
    "average_time_to_unicorn"
   ]
  },
  {
   "cell_type": "code",
   "execution_count": 60,
   "id": "cedb2d81",
   "metadata": {},
   "outputs": [
    {
     "data": {
      "text/plain": [
       "count    1044.000000\n",
       "mean        7.414307\n",
       "std         4.516342\n",
       "min         0.498630\n",
       "25%         4.462329\n",
       "50%         6.461644\n",
       "75%         9.067123\n",
       "max        37.879452\n",
       "Name: Time to Unicorn, dtype: float64"
      ]
     },
     "execution_count": 60,
     "metadata": {},
     "output_type": "execute_result"
    }
   ],
   "source": [
    "# Display the distribution of time to become a unicorn\n",
    "data['Time to Unicorn'].describe()"
   ]
  },
  {
   "cell_type": "markdown",
   "id": "64326308",
   "metadata": {},
   "source": [
    "From the output above, it shows that the average time period for one company to be a unicorn is approximately 7.41 years with the fastest company being one in 0.49 years and the slowest being 37 years."
   ]
  },
  {
   "cell_type": "code",
   "execution_count": 55,
   "id": "624bde08",
   "metadata": {},
   "outputs": [
    {
     "data": {
      "image/png": "[encoded data removed]",
      "text/plain": [
       "<Figure size 864x432 with 1 Axes>"
      ]
     },
     "metadata": {
      "needs_background": "light"
     },
     "output_type": "display_data"
    }
   ],
   "source": [
    "# Yearly trend of unicorn births\n",
    "data['Year Joined'] = data['Date Joined'].dt.year\n",
    "unicorns_per_year = data['Year Joined'].value_counts().sort_index()\n",
    "\n",
    "plt.figure(figsize=(12, 6))\n",
    "sns.lineplot(x=unicorns_per_year.index, y=unicorns_per_year.values)\n",
    "plt.title('Yearly Trend of Unicorn Births')\n",
    "plt.xlabel('Year')\n",
    "plt.ylabel('Number of Unicorns')\n",
    "plt.show()"
   ]
  },
  {
   "cell_type": "markdown",
   "id": "7ce1ff5b",
   "metadata": {},
   "source": [
    "From the line chart we can see that the trend of unicorn birth have increased over the years, and between 2021 and 2022 is the period with the most number of unicorns."
   ]
  },
  {
   "cell_type": "code",
   "execution_count": 67,
   "id": "a8291b5b",
   "metadata": {},
   "outputs": [
    {
     "data": {
      "text/plain": [
       "United States     555\n",
       "China             169\n",
       "India              65\n",
       "United Kingdom     43\n",
       "Germany            25\n",
       "Name: Country, dtype: int64"
      ]
     },
     "execution_count": 67,
     "metadata": {},
     "output_type": "execute_result"
    }
   ],
   "source": [
    "# Count the number of unicorns by country\n",
    "country_counts = data['Country'].value_counts()\n",
    "\n",
    "# Display the top countries\n",
    "top_countries = country_counts.head()\n",
    "top_countries"
   ]
  },
  {
   "cell_type": "code",
   "execution_count": 68,
   "id": "bc2fc3e7",
   "metadata": {},
   "outputs": [
    {
     "data": {
      "text/plain": [
       "San Francisco    152\n",
       "New York         102\n",
       "Beijing           61\n",
       "Shanghai          43\n",
       "London            34\n",
       "Name: City, dtype: int64"
      ]
     },
     "execution_count": 68,
     "metadata": {},
     "output_type": "execute_result"
    }
   ],
   "source": [
    "# Count the number of unicorns by city\n",
    "city_counts = data['City'].value_counts()\n",
    "\n",
    "# Display the top cities\n",
    "top_cities = city_counts.head()\n",
    "top_cities"
   ]
  },
  {
   "cell_type": "markdown",
   "id": "fb195e4d",
   "metadata": {},
   "source": [
    "It shows that United States is the country with most unicorn with San Francisco being the lead city."
   ]
  },
  {
   "cell_type": "code",
   "execution_count": 57,
   "id": "5974cb2e",
   "metadata": {},
   "outputs": [
    {
     "data": {
      "text/plain": [
       "Accel                      59\n",
       "Andreessen Horowitz        52\n",
       "Tiger Global Management    52\n",
       "Insight Partners           46\n",
       "Sequoia Capital            45\n",
       "Name: Select Investors, dtype: int64"
      ]
     },
     "execution_count": 57,
     "metadata": {},
     "output_type": "execute_result"
    }
   ],
   "source": [
    "# Split the 'Select Investors' column into a list of investors\n",
    "data['Select Investors'] = data['Select Investors'].str.split(', ')\n",
    "\n",
    "# Create a flat list of all investors\n",
    "all_investors = data['Select Investors'].explode()\n",
    "\n",
    "# Count the number of unicorns each investor has funded\n",
    "investor_counts = all_investors.value_counts()\n",
    "\n",
    "# Display the top investors\n",
    "top_investors = investor_counts.head()\n",
    "top_investors"
   ]
  },
  {
   "cell_type": "code",
   "execution_count": 58,
   "id": "65c8b03e",
   "metadata": {},
   "outputs": [
    {
     "data": {
      "image/png": "[encoded data removed]",
      "text/plain": [
       "<Figure size 864x576 with 1 Axes>"
      ]
     },
     "metadata": {
      "needs_background": "light"
     },
     "output_type": "display_data"
    }
   ],
   "source": [
    "# Count the number of unicorns each investor has funded\n",
    "investor_counts = all_investors.value_counts()\n",
    "\n",
    "# Plot the top investors\n",
    "plt.figure(figsize=(12, 8))\n",
    "sns.barplot(y=investor_counts.head(10).index, x=investor_counts.head(10).values)\n",
    "plt.title('Top Investors Funding the Most Unicorns')\n",
    "plt.xlabel('Number of Unicorns')\n",
    "plt.ylabel('Investor')\n",
    "plt.show()"
   ]
  },
  {
   "cell_type": "markdown",
   "id": "8c5073b9",
   "metadata": {},
   "source": [
    "Accel is the top investor that has funded more than 50 unicorns."
   ]
  }
 ],
 "metadata": {
  "kernelspec": {
   "display_name": "Python 3",
   "language": "python",
   "name": "python3"
  },
  "language_info": {
   "codemirror_mode": {
    "name": "ipython",
    "version": 3
   },
   "file_extension": ".py",
   "mimetype": "text/x-python",
   "name": "python",
   "nbconvert_exporter": "python",
   "pygments_lexer": "ipython3",
   "version": "3.8.8"
  }
 },
 "nbformat": 4,
 "nbformat_minor": 5
}
